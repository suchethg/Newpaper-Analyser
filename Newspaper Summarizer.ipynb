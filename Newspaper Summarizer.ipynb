{
 "cells": [
  {
   "cell_type": "code",
   "execution_count": 15,
   "metadata": {},
   "outputs": [],
   "source": [
    "import tkinter as tk\n",
    "from tkinter import *\n",
    "from tkinter import ttk\n",
    "from tkinter.scrolledtext import *\n",
    "import tkinter.filedialog\n",
    "from heapq import nlargest\n",
    "from bs4 import BeautifulSoup\n",
    "from urllib.request import urlopen\n",
    "import heapq  \n",
    "import spacy\n",
    "nlp=spacy.load('en')\n",
    "from spacy.lang.en import English\n",
    "from spacy.lang.en.stop_words import STOP_WORDS"
   ]
  },
  {
   "cell_type": "code",
   "execution_count": 16,
   "metadata": {},
   "outputs": [],
   "source": [
    "\n",
    "def text_summarizer(raw_docx):\n",
    "    raw_text = raw_docx\n",
    "    docx = nlp(raw_text)\n",
    "    stopwords = list(STOP_WORDS)\n",
    "    word_frequencies = {}  \n",
    "    for word in docx:  \n",
    "        if word.text not in stopwords:\n",
    "            if word.text not in word_frequencies.keys():\n",
    "                word_frequencies[word.text] = 1\n",
    "            else:\n",
    "                word_frequencies[word.text] += 1\n",
    "\n",
    "\n",
    "    maximum_frequncy = max(word_frequencies.values())\n",
    "\n",
    "    for word in word_frequencies.keys():  \n",
    "        word_frequencies[word] = (word_frequencies[word]/maximum_frequncy)\n",
    "        \n",
    "    sentence_list = [ sentence for sentence in docx.sents ]\n",
    "\n",
    "    \n",
    "    sentence_scores = {}  \n",
    "    for sent in sentence_list:  \n",
    "        for word in sent:\n",
    "            if word.text.lower() in word_frequencies.keys():\n",
    "                if len(sent.text.split(' ')) < 30:\n",
    "                    if sent not in sentence_scores.keys():\n",
    "                        sentence_scores[sent] = word_frequencies[word.text.lower()]\n",
    "                    else:\n",
    "                        sentence_scores[sent] += word_frequencies[word.text.lower()]\n",
    "\n",
    "\n",
    "    summarized_sentences = nlargest(7, sentence_scores, key=sentence_scores.get)\n",
    "    final_sentences = [ w.text for w in summarized_sentences ]\n",
    "    summary = ' '.join(final_sentences)\n",
    "    return summary\n",
    "  "
   ]
  },
  {
   "cell_type": "code",
   "execution_count": 17,
   "metadata": {},
   "outputs": [],
   "source": [
    "window = Tk()\n",
    "window.title(\"News Paper Summaryzer\")\n",
    "window.geometry(\"700x700\")\n",
    "\n",
    "def get_summary():\n",
    "    raw_text = str(entry.get('1.0',tk.END))\n",
    "    final_text = text_summarizer(raw_text)\n",
    "    print(final_text)\n",
    "    result = '\\nSummary:{}'.format(final_text)\n",
    "    tab1_display.insert(tk.END,result)\n",
    "\n",
    "\n",
    "\n",
    "def get_text():\n",
    "    raw_text = str(url_entry.get())\n",
    "    page = urlopen(raw_text)\n",
    "    soup = BeautifulSoup(page)\n",
    "    fetched_text = ' '.join(map(lambda p:p.text,soup.find_all('p')))\n",
    "    url_display.insert(tk.END,fetched_text)\n",
    "\n",
    "def get_url_summary():\n",
    "    raw_text = url_display.get('1.0',tk.END)\n",
    "    final_text = text_summarizer(raw_text)\n",
    "    result = '\\nSummary:{}'.format(final_text)\n",
    "    display_text.insert(tk.END,result)\t\n",
    "\n",
    "\n",
    "# URL \n",
    "l1=Label(window,text=\"Enter Newspaper URL To Summarize\")\n",
    "l1.grid(row=1,column=0)\n",
    "\n",
    "raw_entry=StringVar()\n",
    "url_entry=Entry(window,textvariable=raw_entry,width=50)\n",
    "url_entry.grid(row=1,column=1)\n",
    "\n",
    "\n",
    "\n",
    "button1=Button(window,text=\"Get URL\",command=get_text, width=12)\n",
    "button1.grid(row=4,column=1,padx=10,pady=10)\n",
    "\n",
    "button2=Button(window,text=\"Summarize\",command=get_url_summary, width=12)\n",
    "button2.grid(row=5,column=1,padx=10,pady=10)\n",
    "url_display = ScrolledText(window,height=10)\n",
    "url_display.grid(row=7,column=0, columnspan=3,padx=5,pady=5)\n",
    "display_text = ScrolledText(window,height=10)\n",
    "display_text.grid(row=10,column=0, columnspan=3,padx=5,pady=5)\n",
    "\n",
    "window.mainloop()\n",
    "\n"
   ]
  },
  {
   "cell_type": "code",
   "execution_count": 28,
   "metadata": {},
   "outputs": [],
   "source": []
  },
  {
   "cell_type": "code",
   "execution_count": 30,
   "metadata": {},
   "outputs": [],
   "source": [
    "\n"
   ]
  },
  {
   "cell_type": "code",
   "execution_count": 31,
   "metadata": {},
   "outputs": [],
   "source": []
  },
  {
   "cell_type": "code",
   "execution_count": null,
   "metadata": {},
   "outputs": [],
   "source": []
  }
 ],
 "metadata": {
  "kernelspec": {
   "display_name": "Python 3",
   "language": "python",
   "name": "python3"
  },
  "language_info": {
   "codemirror_mode": {
    "name": "ipython",
    "version": 3
   },
   "file_extension": ".py",
   "mimetype": "text/x-python",
   "name": "python",
   "nbconvert_exporter": "python",
   "pygments_lexer": "ipython3",
   "version": "3.8.8"
  }
 },
 "nbformat": 4,
 "nbformat_minor": 4
}
